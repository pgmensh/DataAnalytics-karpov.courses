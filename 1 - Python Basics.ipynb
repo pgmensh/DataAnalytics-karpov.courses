{
 "cells": [
  {
   "cell_type": "code",
   "execution_count": 1,
   "id": "b37235df",
   "metadata": {},
   "outputs": [
    {
     "name": "stdout",
     "output_type": "stream",
     "text": [
      "13\n"
     ]
    }
   ],
   "source": [
    "print(7425//550)"
   ]
  },
  {
   "cell_type": "code",
   "execution_count": 2,
   "id": "c1d4c2f1",
   "metadata": {},
   "outputs": [
    {
     "name": "stdout",
     "output_type": "stream",
     "text": [
      "13.5\n"
     ]
    }
   ],
   "source": [
    "print(7425/550)"
   ]
  },
  {
   "cell_type": "code",
   "execution_count": 6,
   "id": "09127793",
   "metadata": {},
   "outputs": [
    {
     "data": {
      "text/plain": [
       "'Olya Silyutina is senior'"
      ]
     },
     "execution_count": 6,
     "metadata": {},
     "output_type": "execute_result"
    }
   ],
   "source": [
    "status = []\n",
    "worker = ['Olya', 'Silyutina', 350000, 7]\n",
    "\n",
    "if worker[3] < 2:\n",
    "    status = f\"{worker[0]} {worker[1]} is junior\"\n",
    "elif worker[3] >= 2 and worker[3] <= 5:\n",
    "    status = f\"{worker[0]} {worker[1]} is middle\"\n",
    "else:\n",
    "    status = f\"{worker[0]} {worker[1]} is senior\"\n",
    "status"
   ]
  },
  {
   "cell_type": "code",
   "execution_count": 7,
   "id": "3a61c607",
   "metadata": {},
   "outputs": [
    {
     "data": {
      "text/plain": [
       "[10, 100, 20, 50, 160, 210]"
      ]
     },
     "execution_count": 7,
     "metadata": {},
     "output_type": "execute_result"
    }
   ],
   "source": [
    "values = [12, 134, 10, 47, 100, 20, 50, 160, 210]\n",
    "tens = []\n",
    "for num in values:\n",
    "    if num % 10 == 0:\n",
    "        tens.append(num)\n",
    "tens"
   ]
  },
  {
   "cell_type": "code",
   "execution_count": 8,
   "id": "e13c9326",
   "metadata": {},
   "outputs": [
    {
     "name": "stdout",
     "output_type": "stream",
     "text": [
      "Ivan Ivanov is middle\n",
      "Petr Petrov is middle\n",
      "Sidor Sidorov is middle\n"
     ]
    }
   ],
   "source": [
    "workers = [['Ivan', 'Ivanov', 100000, 2], ['Petr', 'Petrov', 150000, 2], ['Sidor', 'Sidorov', 200000, 3]]\n",
    "for worker in workers:\n",
    "    if worker[3] < 2:\n",
    "        print(f\"{worker[0]} {worker[1]} is junior\")\n",
    "    elif worker[3] >= 2 and worker[3] <= 5:\n",
    "        print(f\"{worker[0]} {worker[1]} is middle\")\n",
    "    else:\n",
    "        print(f\"{worker[0]} {worker[1]} is senior\")\n"
   ]
  },
  {
   "cell_type": "code",
   "execution_count": 11,
   "id": "6baee81f",
   "metadata": {},
   "outputs": [
    {
     "data": {
      "text/plain": [
       "[0, 2, 4, 6, 8, 10]"
      ]
     },
     "execution_count": 11,
     "metadata": {},
     "output_type": "execute_result"
    }
   ],
   "source": [
    "n = 0\n",
    "lst = []\n",
    "while n <= 10:\n",
    "    if n % 2 == 0:\n",
    "        lst.append(n)\n",
    "    n += 1\n",
    "lst"
   ]
  },
  {
   "cell_type": "code",
   "execution_count": 12,
   "id": "24105c7f",
   "metadata": {},
   "outputs": [
    {
     "data": {
      "text/plain": [
       "{'mvolkova': {'name': 'Masha',\n",
       "  'surname': 'Volkova',\n",
       "  'age': 25,\n",
       "  'salary': 60000,\n",
       "  'position': 'junior'},\n",
       " 'pvoronov': {'name': 'Peter',\n",
       "  'surname': 'Voronov',\n",
       "  'age': 27,\n",
       "  'salary': 100000,\n",
       "  'position': 'junior'},\n",
       " 'pparker': {'name': 'Peter',\n",
       "  'surname': 'Parker',\n",
       "  'age': 35,\n",
       "  'salary': 150000,\n",
       "  'position': 'middle'},\n",
       " 'akarpov': {'name': 'Anatoly',\n",
       "  'surname': 'Anatoly',\n",
       "  'age': 30,\n",
       "  'salary': 250000,\n",
       "  'position': 'senior'}}"
      ]
     },
     "execution_count": 12,
     "metadata": {},
     "output_type": "execute_result"
    }
   ],
   "source": [
    "users_dict = { 'mvolkova' : {'name' : 'Masha', 'surname': 'Volkova', 'age': 25, 'salary': 60000, 'position': 'junior'}, 'pvoronov' : {'name' : 'Peter', 'surname': 'Voronov', 'age': 27, 'salary': 100000, 'position': 'junior'}, 'pparker' : {'name' : 'Peter', 'surname': 'Parker', 'age': 35, 'salary': 150000, 'position': 'middle'}, 'akarpov' : {'name' : 'Anatoly', 'surname': 'Anatoly', 'age': 30, 'salary': 250000, 'position': 'senior'} }\n",
    "users_dict"
   ]
  },
  {
   "cell_type": "code",
   "execution_count": null,
   "id": "bb18f47f",
   "metadata": {},
   "outputs": [],
   "source": []
  }
 ],
 "metadata": {
  "kernelspec": {
   "display_name": "Python 3 (ipykernel)",
   "language": "python",
   "name": "python3"
  },
  "language_info": {
   "codemirror_mode": {
    "name": "ipython",
    "version": 3
   },
   "file_extension": ".py",
   "mimetype": "text/x-python",
   "name": "python",
   "nbconvert_exporter": "python",
   "pygments_lexer": "ipython3",
   "version": "3.9.13"
  }
 },
 "nbformat": 4,
 "nbformat_minor": 5
}
